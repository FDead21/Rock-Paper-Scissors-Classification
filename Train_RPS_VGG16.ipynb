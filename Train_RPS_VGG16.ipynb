{
  "cells": [
    {
      "cell_type": "code",
      "execution_count": 1,
      "metadata": {
        "id": "fWKRvXU-NHfE"
      },
      "outputs": [],
      "source": [
        "# Import libraries\n",
        "import zipfile\n",
        "import os\n",
        "from pathlib import Path\n",
        "import random\n",
        "import matplotlib.pyplot as plt\n",
        "import pathlib\n",
        "import numpy as np\n",
        "import tensorflow as tf\n",
        "import tensorflow_hub as hub\n",
        "\n",
        "import datetime\n",
        "# Setup data inputs\n",
        "from tensorflow.keras.preprocessing.image import ImageDataGenerator\n",
        "from tensorflow.keras.applications import VGG16\n",
        "from keras.models import Model\n",
        "from keras.layers import Dense, GlobalAveragePooling2D, Dropout\n",
        "\n"
      ]
    },
    {
      "cell_type": "code",
      "source": [
        "# Replace 'your_file.zip'\n",
        "with zipfile.ZipFile('drive/MyDrive/Rock-Paper-Scissors.zip', 'r') as zip_ref:\n",
        "  zip_ref.extractall()  # Extract all files from the ZIP\n",
        "  zip_ref.close()\n"
      ],
      "metadata": {
        "id": "3kH-GjxLxR11"
      },
      "execution_count": 2,
      "outputs": []
    },
    {
      "cell_type": "code",
      "execution_count": 3,
      "metadata": {
        "id": "w9L_sW46uz7H",
        "colab": {
          "base_uri": "https://localhost:8080/"
        },
        "outputId": "a863c55c-0111-4b7a-b563-2e5da7489734"
      },
      "outputs": [
        {
          "output_type": "stream",
          "name": "stdout",
          "text": [
            "There are 3 directories and 0 images in 'Rock-Paper-Scissors'.\n",
            "There are 3 directories and 0 images in 'Rock-Paper-Scissors/test'.\n",
            "There are 0 directories and 124 images in 'Rock-Paper-Scissors/test/paper'.\n",
            "There are 0 directories and 124 images in 'Rock-Paper-Scissors/test/scissors'.\n",
            "There are 0 directories and 124 images in 'Rock-Paper-Scissors/test/rock'.\n",
            "There are 3 directories and 0 images in 'Rock-Paper-Scissors/validation'.\n",
            "There are 0 directories and 11 images in 'Rock-Paper-Scissors/validation/paper'.\n",
            "There are 0 directories and 11 images in 'Rock-Paper-Scissors/validation/scissors'.\n",
            "There are 0 directories and 11 images in 'Rock-Paper-Scissors/validation/rock'.\n",
            "There are 3 directories and 0 images in 'Rock-Paper-Scissors/train'.\n",
            "There are 0 directories and 840 images in 'Rock-Paper-Scissors/train/paper'.\n",
            "There are 0 directories and 840 images in 'Rock-Paper-Scissors/train/scissors'.\n",
            "There are 0 directories and 840 images in 'Rock-Paper-Scissors/train/rock'.\n"
          ]
        }
      ],
      "source": [
        "# How many images in each folder?\n",
        "\n",
        "\n",
        "# Walk through 10 percent data directory and list number of files\n",
        "for dirpath, dirnames, filenames in os.walk(\"Rock-Paper-Scissors\"):\n",
        "  print(f\"There are {len(dirnames)} directories and {len(filenames)} images in '{dirpath}'.\")"
      ]
    },
    {
      "cell_type": "code",
      "execution_count": 4,
      "metadata": {
        "id": "fmtFYgud6oQQ",
        "colab": {
          "base_uri": "https://localhost:8080/"
        },
        "outputId": "2a31edb2-115c-4ce3-e071-92acf83a8d0c"
      },
      "outputs": [
        {
          "output_type": "stream",
          "name": "stdout",
          "text": [
            "Augmented training images:\n",
            "Found 2520 images belonging to 3 classes.\n",
            "Training images:\n",
            "Found 2520 images belonging to 3 classes.\n",
            "Testing images:\n",
            "Found 372 images belonging to 3 classes.\n",
            "Validation images:\n",
            "Found 33 images belonging to 3 classes.\n"
          ]
        }
      ],
      "source": [
        "IMG_HEIGHT = 256\n",
        "IMG_WIDTH = 256\n",
        "BATCH_SIZE = 32\n",
        "\n",
        "train_dir = \"Rock-Paper-Scissors/train/\"\n",
        "test_dir = \"Rock-Paper-Scissors/test/\"\n",
        "\n",
        "train_datagen_augmented = ImageDataGenerator(rescale=1/255.,\n",
        "                                             rotation_range=20, # rotate the image slightly between 0 and 20 degrees (note: this is an int not a float)\n",
        "                                             shear_range=0.2, # shear the image\n",
        "                                             zoom_range=0.2, # zoom into the image\n",
        "                                             width_shift_range=0.2, # shift the image width ways\n",
        "                                             height_shift_range=0.2, # shift the image height ways\n",
        "                                             horizontal_flip=True) # flip the image on the horizontal axis\n",
        "\n",
        "train_datagen = ImageDataGenerator(rescale=1/255.)\n",
        "test_datagen = ImageDataGenerator(rescale=1/255.)\n",
        "\n",
        "print(\"Augmented training images:\")\n",
        "train_data_augmented = train_datagen_augmented.flow_from_directory(train_dir,\n",
        "                                                                   target_size=(IMG_HEIGHT,IMG_WIDTH),\n",
        "                                                                   batch_size=BATCH_SIZE,\n",
        "                                                                   class_mode='categorical',\n",
        "                                                                   shuffle=True)\n",
        "\n",
        "print(\"Training images:\")\n",
        "train_data = train_datagen.flow_from_directory(train_dir,\n",
        "                                               target_size=(IMG_HEIGHT,IMG_WIDTH),\n",
        "                                               batch_size=BATCH_SIZE,\n",
        "                                               class_mode='categorical',\n",
        "                                               shuffle=True)\n",
        "\n",
        "print(\"Testing images:\")\n",
        "test_data = test_datagen.flow_from_directory(test_dir,\n",
        "                                            target_size=(IMG_HEIGHT,IMG_WIDTH),\n",
        "                                            batch_size=BATCH_SIZE,\n",
        "                                            class_mode='categorical'\n",
        "                                            )\n",
        "\n"
      ]
    },
    {
      "cell_type": "code",
      "source": [
        "train_data_augmented.class_indices\n",
        "\n",
        "\n"
      ],
      "metadata": {
        "colab": {
          "base_uri": "https://localhost:8080/"
        },
        "id": "GGm4o82tkXm5",
        "outputId": "5c77ede9-90ed-4ded-c2f0-55d9b12dea33"
      },
      "execution_count": null,
      "outputs": [
        {
          "output_type": "execute_result",
          "data": {
            "text/plain": [
              "{'paper': 0, 'rock': 1, 'scissors': 2}"
            ]
          },
          "metadata": {},
          "execution_count": 30
        }
      ]
    },
    {
      "cell_type": "code",
      "source": [
        "train_data.class_indices"
      ],
      "metadata": {
        "colab": {
          "base_uri": "https://localhost:8080/"
        },
        "id": "FAUNzyRBlFWK",
        "outputId": "52a98ad0-5979-4660-885d-981b110afdbc"
      },
      "execution_count": null,
      "outputs": [
        {
          "output_type": "execute_result",
          "data": {
            "text/plain": [
              "{'paper': 0, 'rock': 1, 'scissors': 2}"
            ]
          },
          "metadata": {},
          "execution_count": 31
        }
      ]
    },
    {
      "cell_type": "code",
      "source": [
        "test_data.class_indices"
      ],
      "metadata": {
        "colab": {
          "base_uri": "https://localhost:8080/"
        },
        "id": "aZeMf_pclG74",
        "outputId": "0bf74d16-176b-4a43-e8a1-b9125118f885"
      },
      "execution_count": null,
      "outputs": [
        {
          "output_type": "execute_result",
          "data": {
            "text/plain": [
              "{'paper': 0, 'rock': 1, 'scissors': 2}"
            ]
          },
          "metadata": {},
          "execution_count": 32
        }
      ]
    },
    {
      "cell_type": "code",
      "source": [
        "validation_data.class_indices"
      ],
      "metadata": {
        "colab": {
          "base_uri": "https://localhost:8080/"
        },
        "id": "D9IkZgSslHDS",
        "outputId": "b8535da4-5d21-4677-e938-e9280dbf92ac"
      },
      "execution_count": null,
      "outputs": [
        {
          "output_type": "execute_result",
          "data": {
            "text/plain": [
              "{'paper': 0, 'rock': 1, 'scissors': 2}"
            ]
          },
          "metadata": {},
          "execution_count": 33
        }
      ]
    },
    {
      "cell_type": "code",
      "source": [
        "# Get the class names (programmatically, this is much more helpful with a longer list of classes)\n",
        "\n",
        "data_dir = pathlib.Path(\"Rock-Paper-Scissors/train/\") # turn our training path into a Python path\n",
        "class_names = np.array(sorted([item.name for item in data_dir.glob('*')])) # created a list of class_names from the subdirectories\n",
        "print(class_names)"
      ],
      "metadata": {
        "colab": {
          "base_uri": "https://localhost:8080/"
        },
        "id": "-OjfhdFcAfS-",
        "outputId": "6bc66f66-957a-4c44-df4f-71849f3eba71"
      },
      "execution_count": 5,
      "outputs": [
        {
          "output_type": "stream",
          "name": "stdout",
          "text": [
            "['paper' 'rock' 'scissors']\n"
          ]
        }
      ]
    },
    {
      "cell_type": "code",
      "source": [
        "images, labels = train_data[0]  # Get the first batch of data\n",
        "augmented_images, augmented_labels = train_data_augmented[0]  # Get the first batch of augmented data"
      ],
      "metadata": {
        "id": "LpnpE8A64yHq"
      },
      "execution_count": null,
      "outputs": []
    },
    {
      "cell_type": "code",
      "source": [
        "# Show original image and augmented image\n",
        "random_number = random.randint(0, 31) # we're making batches of size 32, so we'll get a random instance\n",
        "plt.imshow(images[random_number])\n",
        "plt.title(f\"Original image\")\n",
        "plt.axis(False)\n",
        "plt.figure()\n",
        "plt.imshow(augmented_images[random_number])\n",
        "plt.title(f\"Augmented image\")\n",
        "plt.axis(False);"
      ],
      "metadata": {
        "id": "ITt7oEKqFeWv"
      },
      "execution_count": null,
      "outputs": []
    },
    {
      "cell_type": "code",
      "execution_count": null,
      "metadata": {
        "id": "56PB0CO17EbR"
      },
      "outputs": [],
      "source": [
        "def create_tensorboard_callback(dir_name, experiment_name):\n",
        "  log_dir = dir_name + \"/\" + experiment_name + \"/\" + datetime.datetime.now().strftime(\"%Y%m%d-%H%M%S\")\n",
        "  tensorboard_callback = tf.keras.callbacks.TensorBoard(\n",
        "      log_dir=log_dir\n",
        "  )\n",
        "  print(f\"Saving TensorBoard log files to: {log_dir}\")\n",
        "  return tensorboard_callback"
      ]
    },
    {
      "cell_type": "code",
      "source": [
        "vgg_url = \"https://tfhub.dev/google/imagenet/vgg16/feature_vector/4\"\n",
        "\n",
        "# Load the VGG16 model without the top (fully connected) layers\n",
        "vgg_model = VGG16(weights='imagenet', include_top=False, input_shape=(256, 256, 3))\n",
        "\n"
      ],
      "metadata": {
        "id": "800vswGIfcpg"
      },
      "execution_count": null,
      "outputs": []
    },
    {
      "cell_type": "code",
      "execution_count": null,
      "metadata": {
        "id": "2UZkhkrFAPCa"
      },
      "outputs": [],
      "source": [
        "x = vgg_model.output\n",
        "x = GlobalAveragePooling2D()(x)\n",
        "# let's add a fully-connected layer\n",
        "x = Dense(256, activation='relu')(x)\n",
        "# and a logistic layer -- let's say we have 200 classes\n",
        "predictions = Dense(3, activation='softmax')(x)\n",
        "\n",
        "# this is the model we will train\n",
        "model = Model(inputs=vgg_model.input, outputs=predictions)\n",
        "\n",
        "# first: train only the top layers (which were randomly initialized)\n",
        "# i.e. freeze all convolutional layers\n",
        "for layer in vgg_model.layers:\n",
        "    layer.trainable = False\n",
        "\n",
        "\n",
        "\n"
      ]
    },
    {
      "cell_type": "code",
      "source": [
        "class LearningRateFinder(tf.keras.callbacks.Callback):\n",
        "    def __init__(self, min_lr=1e-8, max_lr=2, momentum=0.9, logscale=True, num_iterations=100):\n",
        "        super(LearningRateFinder, self).__init__()\n",
        "        self.min_lr = min_lr\n",
        "        self.max_lr = max_lr\n",
        "        self.momentum = momentum\n",
        "        self.logscale = logscale\n",
        "        self.num_iterations = num_iterations\n",
        "\n",
        "    def on_train_begin(self, logs=None):\n",
        "        self.learning_rates = []\n",
        "        self.losses = []\n",
        "        self.best_loss = np.inf\n",
        "        self.avg_loss = 0\n",
        "        self.batch_num = 0\n",
        "        self.beta = 0.98\n",
        "\n",
        "    def on_batch_end(self, batch, logs=None):\n",
        "        lr = self.get_lr()\n",
        "        self.batch_num += 1\n",
        "        self.avg_loss = self.beta * self.avg_loss + (1 - self.beta) * logs['loss']\n",
        "        smoothed_loss = self.avg_loss / (1 - self.beta**self.batch_num)\n",
        "\n",
        "        self.learning_rates.append(lr)\n",
        "        self.losses.append(smoothed_loss)\n",
        "\n",
        "        if smoothed_loss < self.best_loss or self.batch_num==1:\n",
        "            self.best_loss = smoothed_loss\n",
        "        if smoothed_loss > 4 * self.best_loss or lr > self.max_lr:\n",
        "            self.model.stop_training = True\n",
        "\n",
        "    def get_lr(self):\n",
        "        if self.logscale:\n",
        "            return self.min_lr * (self.max_lr/self.min_lr)**(self.batch_num/self.num_iterations)\n",
        "        return self.min_lr + (self.max_lr-self.min_lr)*(self.batch_num/self.num_iterations)\n",
        "\n",
        "    def plot_lr(self):\n",
        "        plt.plot(self.learning_rates, self.losses)\n",
        "        plt.xscale('log')\n",
        "        plt.xlabel('Learning rate')\n",
        "        plt.ylabel('Loss')\n",
        "        plt.show()"
      ],
      "metadata": {
        "id": "DfzLaIRTwyE2"
      },
      "execution_count": null,
      "outputs": []
    },
    {
      "cell_type": "code",
      "execution_count": null,
      "metadata": {
        "id": "9R6c_desAqWi"
      },
      "outputs": [],
      "source": [
        "# model = create_model(efficientnet_url,num_classes=train_data.num_classes)\n",
        "\n",
        "lr_finder = LearningRateFinder(min_lr=1e-8, max_lr=2, num_iterations=100)"
      ]
    },
    {
      "cell_type": "code",
      "execution_count": null,
      "metadata": {
        "id": "4xcxG2bMBJEk"
      },
      "outputs": [],
      "source": [
        "model.compile(\n",
        "    optimizer=tf.keras.optimizers.Adam(learning_rate=0.001),\n",
        "    loss='categorical_crossentropy',\n",
        "    metrics=['accuracy']\n",
        ")\n",
        "\n",
        "# steps_per_epoch = len(train_data) + len(train_data_augmented) #this is mandatory, otherwise it will keep looping\n"
      ]
    },
    {
      "cell_type": "markdown",
      "source": [
        "**For Learning Rate**"
      ],
      "metadata": {
        "id": "pSP71EWcSrrl"
      }
    },
    {
      "cell_type": "code",
      "source": [
        "history = model.fit(\n",
        "    x=train_data_augmented,\n",
        "    epochs=1,  # Run for only one epoch\n",
        "    validation_data=test_data,\n",
        "    callbacks=[lr_finder],\n",
        "    verbose=0\n",
        ")"
      ],
      "metadata": {
        "id": "BpqNtXpkw-02"
      },
      "execution_count": null,
      "outputs": []
    },
    {
      "cell_type": "code",
      "source": [
        "lr_finder.plot_lr()"
      ],
      "metadata": {
        "colab": {
          "base_uri": "https://localhost:8080/",
          "height": 454
        },
        "id": "MK_SO1e6yDgr",
        "outputId": "f5e10840-390d-4dd6-ada9-fb4bdfba0e87"
      },
      "execution_count": null,
      "outputs": [
        {
          "output_type": "display_data",
          "data": {
            "text/plain": [
              "<Figure size 640x480 with 1 Axes>"
            ],
            "image/png": "[encoded data removed]"
          },
          "metadata": {}
        }
      ]
    },
    {
      "cell_type": "markdown",
      "source": [
        "**For Model**"
      ],
      "metadata": {
        "id": "MhrbBzbcVs0Z"
      }
    },
    {
      "cell_type": "code",
      "execution_count": null,
      "metadata": {
        "colab": {
          "base_uri": "https://localhost:8080/"
        },
        "id": "fTmTs4pxBMH5",
        "outputId": "86a15565-5624-4d34-8d56-5970f0bcbc34"
      },
      "outputs": [
        {
          "output_type": "stream",
          "name": "stdout",
          "text": [
            "Epoch 1/10\n"
          ]
        },
        {
          "output_type": "stream",
          "name": "stderr",
          "text": [
            "/usr/local/lib/python3.10/dist-packages/keras/src/trainers/data_adapters/py_dataset_adapter.py:121: UserWarning: Your `PyDataset` class should call `super().__init__(**kwargs)` in its constructor. `**kwargs` can include `workers`, `use_multiprocessing`, `max_queue_size`. Do not pass these arguments to `fit()`, as they will be ignored.\n",
            "  self._warn_if_super_not_called()\n"
          ]
        },
        {
          "output_type": "stream",
          "name": "stdout",
          "text": [
            "\u001b[1m79/79\u001b[0m \u001b[32m━━━━━━━━━━━━━━━━━━━━\u001b[0m\u001b[37m\u001b[0m \u001b[1m49s\u001b[0m 581ms/step - accuracy: 0.9924 - loss: 0.0361 - val_accuracy: 0.9785 - val_loss: 0.0595\n",
            "Epoch 2/10\n",
            "\u001b[1m79/79\u001b[0m \u001b[32m━━━━━━━━━━━━━━━━━━━━\u001b[0m\u001b[37m\u001b[0m \u001b[1m82s\u001b[0m 576ms/step - accuracy: 0.9936 - loss: 0.0258 - val_accuracy: 1.0000 - val_loss: 0.0325\n",
            "Epoch 3/10\n",
            "\u001b[1m79/79\u001b[0m \u001b[32m━━━━━━━━━━━━━━━━━━━━\u001b[0m\u001b[37m\u001b[0m \u001b[1m82s\u001b[0m 571ms/step - accuracy: 0.9947 - loss: 0.0243 - val_accuracy: 0.9946 - val_loss: 0.0388\n",
            "Epoch 4/10\n",
            "\u001b[1m79/79\u001b[0m \u001b[32m━━━━━━━━━━━━━━━━━━━━\u001b[0m\u001b[37m\u001b[0m \u001b[1m81s\u001b[0m 576ms/step - accuracy: 0.9894 - loss: 0.0313 - val_accuracy: 0.9731 - val_loss: 0.0716\n",
            "Epoch 5/10\n",
            "\u001b[1m79/79\u001b[0m \u001b[32m━━━━━━━━━━━━━━━━━━━━\u001b[0m\u001b[37m\u001b[0m \u001b[1m82s\u001b[0m 579ms/step - accuracy: 0.9970 - loss: 0.0166 - val_accuracy: 1.0000 - val_loss: 0.0216\n",
            "Epoch 6/10\n",
            "\u001b[1m79/79\u001b[0m \u001b[32m━━━━━━━━━━━━━━━━━━━━\u001b[0m\u001b[37m\u001b[0m \u001b[1m83s\u001b[0m 577ms/step - accuracy: 0.9893 - loss: 0.0292 - val_accuracy: 0.9731 - val_loss: 0.0482\n",
            "Epoch 7/10\n",
            "\u001b[1m79/79\u001b[0m \u001b[32m━━━━━━━━━━━━━━━━━━━━\u001b[0m\u001b[37m\u001b[0m \u001b[1m81s\u001b[0m 571ms/step - accuracy: 0.9917 - loss: 0.0259 - val_accuracy: 0.9651 - val_loss: 0.1134\n",
            "Epoch 8/10\n",
            "\u001b[1m79/79\u001b[0m \u001b[32m━━━━━━━━━━━━━━━━━━━━\u001b[0m\u001b[37m\u001b[0m \u001b[1m49s\u001b[0m 583ms/step - accuracy: 0.9949 - loss: 0.0180 - val_accuracy: 0.9758 - val_loss: 0.0538\n",
            "Epoch 9/10\n",
            "\u001b[1m79/79\u001b[0m \u001b[32m━━━━━━━━━━━━━━━━━━━━\u001b[0m\u001b[37m\u001b[0m \u001b[1m83s\u001b[0m 577ms/step - accuracy: 0.9964 - loss: 0.0138 - val_accuracy: 1.0000 - val_loss: 0.0125\n",
            "Epoch 10/10\n",
            "\u001b[1m79/79\u001b[0m \u001b[32m━━━━━━━━━━━━━━━━━━━━\u001b[0m\u001b[37m\u001b[0m \u001b[1m82s\u001b[0m 574ms/step - accuracy: 0.9946 - loss: 0.0184 - val_accuracy: 0.9677 - val_loss: 0.0988\n"
          ]
        }
      ],
      "source": [
        "history = model.fit(\n",
        "        x=train_data_augmented,\n",
        "        validation_data=test_data,\n",
        "        batch_size=32,\n",
        "        epochs=10,\n",
        "        verbose=1\n",
        "    )"
      ]
    },
    {
      "cell_type": "code",
      "source": [
        "# Save a model\n",
        "model.save(\"train1vgg_augmented_model.keras\")"
      ],
      "metadata": {
        "id": "H7F7pl1oj-H7"
      },
      "execution_count": null,
      "outputs": []
    },
    {
      "cell_type": "code",
      "source": [
        "# Plot the validation and training data separately\n",
        "def plot_loss_curves(history):\n",
        "  \"\"\"\n",
        "  Returns separate loss curves for training and validation metrics.\n",
        "  \"\"\"\n",
        "  loss = history.history['loss']\n",
        "  val_loss = history.history['val_loss']\n",
        "\n",
        "  accuracy = history.history['accuracy']\n",
        "  val_accuracy = history.history['val_accuracy']\n",
        "\n",
        "  epochs = range(len(history.history['loss']))\n",
        "\n",
        "  # Plot loss\n",
        "  plt.plot(epochs, loss, label='training_loss')\n",
        "  plt.plot(epochs, val_loss, label='val_loss')\n",
        "  plt.title('Loss')\n",
        "  plt.xlabel('Epochs')\n",
        "  plt.legend()\n",
        "\n",
        "  # Plot accuracy\n",
        "  plt.figure()\n",
        "  plt.plot(epochs, accuracy, label='training_accuracy')\n",
        "  plt.plot(epochs, val_accuracy, label='val_accuracy')\n",
        "  plt.title('Accuracy')\n",
        "  plt.xlabel('Epochs')\n",
        "  plt.legend();"
      ],
      "metadata": {
        "id": "xjD_Udu8F9r7"
      },
      "execution_count": null,
      "outputs": []
    },
    {
      "cell_type": "code",
      "source": [
        "# Check out the loss curves of model\n",
        "plot_loss_curves(history)"
      ],
      "metadata": {
        "colab": {
          "base_uri": "https://localhost:8080/",
          "height": 927
        },
        "id": "ePlDIrT1aLPu",
        "outputId": "99714cdd-f333-4b8a-dcf0-1fc4e37372f4"
      },
      "execution_count": null,
      "outputs": [
        {
          "output_type": "display_data",
          "data": {
            "text/plain": [
              "<Figure size 640x480 with 1 Axes>"
            ],
            "image/png": "[encoded data removed]"
          },
          "metadata": {}
        },
        {
          "output_type": "display_data",
          "data": {
            "text/plain": [
              "<Figure size 640x480 with 1 Axes>"
            ],
            "image/png": "[encoded data removed]"
          },
          "metadata": {}
        }
      ]
    }
  ],
  "metadata": {
    "colab": {
      "provenance": [],
      "gpuType": "T4",
      "mount_file_id": "1AtpWGGJYPi2-RoUaRFMjo9mDCl4Vc4RC",
      "authorship_tag": "ABX9TyP3UY8AH7rd7eLISQWOB9Wl"
    },
    "kernelspec": {
      "display_name": "Python 3",
      "name": "python3"
    },
    "language_info": {
      "name": "python"
    },
    "accelerator": "GPU"
  },
  "nbformat": 4,
  "nbformat_minor": 0
}